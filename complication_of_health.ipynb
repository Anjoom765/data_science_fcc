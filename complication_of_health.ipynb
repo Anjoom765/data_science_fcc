{
  "nbformat": 4,
  "nbformat_minor": 0,
  "metadata": {
    "colab": {
      "name": "complication_of_health.ipynb",
      "provenance": [],
      "authorship_tag": "ABX9TyNXldcz/fYiR5excvwsK+Mm",
      "include_colab_link": true
    },
    "kernelspec": {
      "name": "python3",
      "display_name": "Python 3"
    },
    "language_info": {
      "name": "python"
    }
  },
  "cells": [
    {
      "cell_type": "markdown",
      "metadata": {
        "id": "view-in-github",
        "colab_type": "text"
      },
      "source": [
        "<a href=\"https://colab.research.google.com/github/Anjoom765/data_science_fcc/blob/main/complication_of_health.ipynb\" target=\"_parent\"><img src=\"https://colab.research.google.com/assets/colab-badge.svg\" alt=\"Open In Colab\"/></a>"
      ]
    },
    {
      "cell_type": "markdown",
      "source": [
        "**reparing a binary classifier , which will classify the people into complicated and non-complicated based on the data provided** \n"
      ],
      "metadata": {
        "id": "K8EDjgYhd9g3"
      }
    },
    {
      "cell_type": "markdown",
      "source": [
        "LOADING THE DATASET FROM GITHUB REPO"
      ],
      "metadata": {
        "id": "N8iDrtEtzHnB"
      }
    },
    {
      "cell_type": "code",
      "execution_count": 131,
      "metadata": {
        "id": "QyYAHAt9xwQE"
      },
      "outputs": [],
      "source": [
        "import numpy as np\n",
        "import pandas as pd\n"
      ]
    },
    {
      "cell_type": "code",
      "source": [
        "data=pd.read_csv('https://raw.githubusercontent.com/Anjoom765/data_science_fcc/main/Surgical-deepnet.csv')\n",
        "data.head()"
      ],
      "metadata": {
        "colab": {
          "base_uri": "https://localhost:8080/",
          "height": 270
        },
        "id": "1Wc2wyU0ye0Y",
        "outputId": "733cd87a-5196-4416-d8fe-202bec5b8d8b"
      },
      "execution_count": 132,
      "outputs": [
        {
          "output_type": "execute_result",
          "data": {
            "text/html": [
              "\n",
              "  <div id=\"df-e4663cbb-3faa-47b3-848e-7e8eee4a71d0\">\n",
              "    <div class=\"colab-df-container\">\n",
              "      <div>\n",
              "<style scoped>\n",
              "    .dataframe tbody tr th:only-of-type {\n",
              "        vertical-align: middle;\n",
              "    }\n",
              "\n",
              "    .dataframe tbody tr th {\n",
              "        vertical-align: top;\n",
              "    }\n",
              "\n",
              "    .dataframe thead th {\n",
              "        text-align: right;\n",
              "    }\n",
              "</style>\n",
              "<table border=\"1\" class=\"dataframe\">\n",
              "  <thead>\n",
              "    <tr style=\"text-align: right;\">\n",
              "      <th></th>\n",
              "      <th>bmi</th>\n",
              "      <th>Age</th>\n",
              "      <th>asa_status</th>\n",
              "      <th>baseline_cancer</th>\n",
              "      <th>baseline_charlson</th>\n",
              "      <th>baseline_cvd</th>\n",
              "      <th>baseline_dementia</th>\n",
              "      <th>baseline_diabetes</th>\n",
              "      <th>baseline_digestive</th>\n",
              "      <th>baseline_osteoart</th>\n",
              "      <th>baseline_psych</th>\n",
              "      <th>baseline_pulmonary</th>\n",
              "      <th>ahrq_ccs</th>\n",
              "      <th>ccsComplicationRate</th>\n",
              "      <th>ccsMort30Rate</th>\n",
              "      <th>complication_rsi</th>\n",
              "      <th>dow</th>\n",
              "      <th>gender</th>\n",
              "      <th>hour</th>\n",
              "      <th>month</th>\n",
              "      <th>moonphase</th>\n",
              "      <th>mort30</th>\n",
              "      <th>mortality_rsi</th>\n",
              "      <th>race</th>\n",
              "      <th>complication</th>\n",
              "    </tr>\n",
              "  </thead>\n",
              "  <tbody>\n",
              "    <tr>\n",
              "      <th>0</th>\n",
              "      <td>19.31</td>\n",
              "      <td>59.2</td>\n",
              "      <td>1</td>\n",
              "      <td>1</td>\n",
              "      <td>0</td>\n",
              "      <td>0</td>\n",
              "      <td>0</td>\n",
              "      <td>0</td>\n",
              "      <td>0</td>\n",
              "      <td>0</td>\n",
              "      <td>0</td>\n",
              "      <td>0</td>\n",
              "      <td>19</td>\n",
              "      <td>0.183370</td>\n",
              "      <td>0.007424</td>\n",
              "      <td>-0.57</td>\n",
              "      <td>3</td>\n",
              "      <td>0</td>\n",
              "      <td>7.63</td>\n",
              "      <td>6</td>\n",
              "      <td>1</td>\n",
              "      <td>0</td>\n",
              "      <td>-0.43</td>\n",
              "      <td>1</td>\n",
              "      <td>0</td>\n",
              "    </tr>\n",
              "    <tr>\n",
              "      <th>1</th>\n",
              "      <td>18.73</td>\n",
              "      <td>59.1</td>\n",
              "      <td>0</td>\n",
              "      <td>0</td>\n",
              "      <td>0</td>\n",
              "      <td>0</td>\n",
              "      <td>0</td>\n",
              "      <td>0</td>\n",
              "      <td>0</td>\n",
              "      <td>0</td>\n",
              "      <td>0</td>\n",
              "      <td>0</td>\n",
              "      <td>1</td>\n",
              "      <td>0.312029</td>\n",
              "      <td>0.016673</td>\n",
              "      <td>0.21</td>\n",
              "      <td>0</td>\n",
              "      <td>0</td>\n",
              "      <td>12.93</td>\n",
              "      <td>0</td>\n",
              "      <td>1</td>\n",
              "      <td>0</td>\n",
              "      <td>-0.41</td>\n",
              "      <td>1</td>\n",
              "      <td>0</td>\n",
              "    </tr>\n",
              "    <tr>\n",
              "      <th>2</th>\n",
              "      <td>21.85</td>\n",
              "      <td>59.0</td>\n",
              "      <td>0</td>\n",
              "      <td>0</td>\n",
              "      <td>0</td>\n",
              "      <td>0</td>\n",
              "      <td>0</td>\n",
              "      <td>0</td>\n",
              "      <td>0</td>\n",
              "      <td>0</td>\n",
              "      <td>0</td>\n",
              "      <td>0</td>\n",
              "      <td>6</td>\n",
              "      <td>0.150706</td>\n",
              "      <td>0.001962</td>\n",
              "      <td>0.00</td>\n",
              "      <td>2</td>\n",
              "      <td>0</td>\n",
              "      <td>7.68</td>\n",
              "      <td>5</td>\n",
              "      <td>3</td>\n",
              "      <td>0</td>\n",
              "      <td>0.08</td>\n",
              "      <td>1</td>\n",
              "      <td>0</td>\n",
              "    </tr>\n",
              "    <tr>\n",
              "      <th>3</th>\n",
              "      <td>18.49</td>\n",
              "      <td>59.0</td>\n",
              "      <td>1</td>\n",
              "      <td>0</td>\n",
              "      <td>1</td>\n",
              "      <td>0</td>\n",
              "      <td>0</td>\n",
              "      <td>1</td>\n",
              "      <td>1</td>\n",
              "      <td>0</td>\n",
              "      <td>0</td>\n",
              "      <td>0</td>\n",
              "      <td>7</td>\n",
              "      <td>0.056166</td>\n",
              "      <td>0.000000</td>\n",
              "      <td>-0.65</td>\n",
              "      <td>2</td>\n",
              "      <td>1</td>\n",
              "      <td>7.58</td>\n",
              "      <td>4</td>\n",
              "      <td>3</td>\n",
              "      <td>0</td>\n",
              "      <td>-0.32</td>\n",
              "      <td>1</td>\n",
              "      <td>0</td>\n",
              "    </tr>\n",
              "    <tr>\n",
              "      <th>4</th>\n",
              "      <td>19.70</td>\n",
              "      <td>59.0</td>\n",
              "      <td>1</td>\n",
              "      <td>0</td>\n",
              "      <td>0</td>\n",
              "      <td>0</td>\n",
              "      <td>0</td>\n",
              "      <td>0</td>\n",
              "      <td>0</td>\n",
              "      <td>0</td>\n",
              "      <td>0</td>\n",
              "      <td>0</td>\n",
              "      <td>11</td>\n",
              "      <td>0.197305</td>\n",
              "      <td>0.002764</td>\n",
              "      <td>0.00</td>\n",
              "      <td>0</td>\n",
              "      <td>0</td>\n",
              "      <td>7.88</td>\n",
              "      <td>11</td>\n",
              "      <td>0</td>\n",
              "      <td>0</td>\n",
              "      <td>0.00</td>\n",
              "      <td>1</td>\n",
              "      <td>0</td>\n",
              "    </tr>\n",
              "  </tbody>\n",
              "</table>\n",
              "</div>\n",
              "      <button class=\"colab-df-convert\" onclick=\"convertToInteractive('df-e4663cbb-3faa-47b3-848e-7e8eee4a71d0')\"\n",
              "              title=\"Convert this dataframe to an interactive table.\"\n",
              "              style=\"display:none;\">\n",
              "        \n",
              "  <svg xmlns=\"http://www.w3.org/2000/svg\" height=\"24px\"viewBox=\"0 0 24 24\"\n",
              "       width=\"24px\">\n",
              "    <path d=\"M0 0h24v24H0V0z\" fill=\"none\"/>\n",
              "    <path d=\"M18.56 5.44l.94 2.06.94-2.06 2.06-.94-2.06-.94-.94-2.06-.94 2.06-2.06.94zm-11 1L8.5 8.5l.94-2.06 2.06-.94-2.06-.94L8.5 2.5l-.94 2.06-2.06.94zm10 10l.94 2.06.94-2.06 2.06-.94-2.06-.94-.94-2.06-.94 2.06-2.06.94z\"/><path d=\"M17.41 7.96l-1.37-1.37c-.4-.4-.92-.59-1.43-.59-.52 0-1.04.2-1.43.59L10.3 9.45l-7.72 7.72c-.78.78-.78 2.05 0 2.83L4 21.41c.39.39.9.59 1.41.59.51 0 1.02-.2 1.41-.59l7.78-7.78 2.81-2.81c.8-.78.8-2.07 0-2.86zM5.41 20L4 18.59l7.72-7.72 1.47 1.35L5.41 20z\"/>\n",
              "  </svg>\n",
              "      </button>\n",
              "      \n",
              "  <style>\n",
              "    .colab-df-container {\n",
              "      display:flex;\n",
              "      flex-wrap:wrap;\n",
              "      gap: 12px;\n",
              "    }\n",
              "\n",
              "    .colab-df-convert {\n",
              "      background-color: #E8F0FE;\n",
              "      border: none;\n",
              "      border-radius: 50%;\n",
              "      cursor: pointer;\n",
              "      display: none;\n",
              "      fill: #1967D2;\n",
              "      height: 32px;\n",
              "      padding: 0 0 0 0;\n",
              "      width: 32px;\n",
              "    }\n",
              "\n",
              "    .colab-df-convert:hover {\n",
              "      background-color: #E2EBFA;\n",
              "      box-shadow: 0px 1px 2px rgba(60, 64, 67, 0.3), 0px 1px 3px 1px rgba(60, 64, 67, 0.15);\n",
              "      fill: #174EA6;\n",
              "    }\n",
              "\n",
              "    [theme=dark] .colab-df-convert {\n",
              "      background-color: #3B4455;\n",
              "      fill: #D2E3FC;\n",
              "    }\n",
              "\n",
              "    [theme=dark] .colab-df-convert:hover {\n",
              "      background-color: #434B5C;\n",
              "      box-shadow: 0px 1px 3px 1px rgba(0, 0, 0, 0.15);\n",
              "      filter: drop-shadow(0px 1px 2px rgba(0, 0, 0, 0.3));\n",
              "      fill: #FFFFFF;\n",
              "    }\n",
              "  </style>\n",
              "\n",
              "      <script>\n",
              "        const buttonEl =\n",
              "          document.querySelector('#df-e4663cbb-3faa-47b3-848e-7e8eee4a71d0 button.colab-df-convert');\n",
              "        buttonEl.style.display =\n",
              "          google.colab.kernel.accessAllowed ? 'block' : 'none';\n",
              "\n",
              "        async function convertToInteractive(key) {\n",
              "          const element = document.querySelector('#df-e4663cbb-3faa-47b3-848e-7e8eee4a71d0');\n",
              "          const dataTable =\n",
              "            await google.colab.kernel.invokeFunction('convertToInteractive',\n",
              "                                                     [key], {});\n",
              "          if (!dataTable) return;\n",
              "\n",
              "          const docLinkHtml = 'Like what you see? Visit the ' +\n",
              "            '<a target=\"_blank\" href=https://colab.research.google.com/notebooks/data_table.ipynb>data table notebook</a>'\n",
              "            + ' to learn more about interactive tables.';\n",
              "          element.innerHTML = '';\n",
              "          dataTable['output_type'] = 'display_data';\n",
              "          await google.colab.output.renderOutput(dataTable, element);\n",
              "          const docLink = document.createElement('div');\n",
              "          docLink.innerHTML = docLinkHtml;\n",
              "          element.appendChild(docLink);\n",
              "        }\n",
              "      </script>\n",
              "    </div>\n",
              "  </div>\n",
              "  "
            ],
            "text/plain": [
              "     bmi   Age  asa_status  ...  mortality_rsi  race  complication\n",
              "0  19.31  59.2           1  ...          -0.43     1             0\n",
              "1  18.73  59.1           0  ...          -0.41     1             0\n",
              "2  21.85  59.0           0  ...           0.08     1             0\n",
              "3  18.49  59.0           1  ...          -0.32     1             0\n",
              "4  19.70  59.0           1  ...           0.00     1             0\n",
              "\n",
              "[5 rows x 25 columns]"
            ]
          },
          "metadata": {},
          "execution_count": 132
        }
      ]
    },
    {
      "cell_type": "markdown",
      "source": [
        "**producing a brief report of the dataset**"
      ],
      "metadata": {
        "id": "z6VYx6nezXoy"
      }
    },
    {
      "cell_type": "code",
      "source": [
        "data.info()"
      ],
      "metadata": {
        "colab": {
          "base_uri": "https://localhost:8080/"
        },
        "id": "VeoL7Lw7zuwB",
        "outputId": "5967e553-19c2-4112-8518-510ba32c3d5a"
      },
      "execution_count": 133,
      "outputs": [
        {
          "output_type": "stream",
          "name": "stdout",
          "text": [
            "<class 'pandas.core.frame.DataFrame'>\n",
            "RangeIndex: 14635 entries, 0 to 14634\n",
            "Data columns (total 25 columns):\n",
            " #   Column               Non-Null Count  Dtype  \n",
            "---  ------               --------------  -----  \n",
            " 0   bmi                  14635 non-null  float64\n",
            " 1   Age                  14635 non-null  float64\n",
            " 2   asa_status           14635 non-null  int64  \n",
            " 3   baseline_cancer      14635 non-null  int64  \n",
            " 4   baseline_charlson    14635 non-null  int64  \n",
            " 5   baseline_cvd         14635 non-null  int64  \n",
            " 6   baseline_dementia    14635 non-null  int64  \n",
            " 7   baseline_diabetes    14635 non-null  int64  \n",
            " 8   baseline_digestive   14635 non-null  int64  \n",
            " 9   baseline_osteoart    14635 non-null  int64  \n",
            " 10  baseline_psych       14635 non-null  int64  \n",
            " 11  baseline_pulmonary   14635 non-null  int64  \n",
            " 12  ahrq_ccs             14635 non-null  int64  \n",
            " 13  ccsComplicationRate  14635 non-null  float64\n",
            " 14  ccsMort30Rate        14635 non-null  float64\n",
            " 15  complication_rsi     14635 non-null  float64\n",
            " 16  dow                  14635 non-null  int64  \n",
            " 17  gender               14635 non-null  int64  \n",
            " 18  hour                 14635 non-null  float64\n",
            " 19  month                14635 non-null  int64  \n",
            " 20  moonphase            14635 non-null  int64  \n",
            " 21  mort30               14635 non-null  int64  \n",
            " 22  mortality_rsi        14635 non-null  float64\n",
            " 23  race                 14635 non-null  int64  \n",
            " 24  complication         14635 non-null  int64  \n",
            "dtypes: float64(7), int64(18)\n",
            "memory usage: 2.8 MB\n"
          ]
        }
      ]
    },
    {
      "cell_type": "code",
      "source": [
        "data.shape"
      ],
      "metadata": {
        "colab": {
          "base_uri": "https://localhost:8080/"
        },
        "id": "2cGVwCWs0NV9",
        "outputId": "b44797a0-1a1f-4c66-c935-f1423ef3743d"
      },
      "execution_count": 134,
      "outputs": [
        {
          "output_type": "execute_result",
          "data": {
            "text/plain": [
              "(14635, 25)"
            ]
          },
          "metadata": {},
          "execution_count": 134
        }
      ]
    },
    {
      "cell_type": "code",
      "source": [
        "data.isnull().sum()"
      ],
      "metadata": {
        "colab": {
          "base_uri": "https://localhost:8080/"
        },
        "id": "JMwyEAPx2Eru",
        "outputId": "c3e496d7-e3b1-419f-db43-1375bd5d351e"
      },
      "execution_count": 135,
      "outputs": [
        {
          "output_type": "execute_result",
          "data": {
            "text/plain": [
              "bmi                    0\n",
              "Age                    0\n",
              "asa_status             0\n",
              "baseline_cancer        0\n",
              "baseline_charlson      0\n",
              "baseline_cvd           0\n",
              "baseline_dementia      0\n",
              "baseline_diabetes      0\n",
              "baseline_digestive     0\n",
              "baseline_osteoart      0\n",
              "baseline_psych         0\n",
              "baseline_pulmonary     0\n",
              "ahrq_ccs               0\n",
              "ccsComplicationRate    0\n",
              "ccsMort30Rate          0\n",
              "complication_rsi       0\n",
              "dow                    0\n",
              "gender                 0\n",
              "hour                   0\n",
              "month                  0\n",
              "moonphase              0\n",
              "mort30                 0\n",
              "mortality_rsi          0\n",
              "race                   0\n",
              "complication           0\n",
              "dtype: int64"
            ]
          },
          "metadata": {},
          "execution_count": 135
        }
      ]
    },
    {
      "cell_type": "markdown",
      "source": [
        "**data analysis**"
      ],
      "metadata": {
        "id": "N3p10rRM5PF9"
      }
    },
    {
      "cell_type": "code",
      "source": [
        "import seaborn as sns\n",
        "import matplotlib.pyplot as plt\n",
        "%matplotlib inline"
      ],
      "metadata": {
        "id": "fzSJVIcF2LZj"
      },
      "execution_count": 136,
      "outputs": []
    },
    {
      "cell_type": "code",
      "source": [
        "df=data"
      ],
      "metadata": {
        "id": "62bIhgTPeRAt"
      },
      "execution_count": 137,
      "outputs": []
    },
    {
      "cell_type": "code",
      "source": [
        "fig, axes = plt.subplots(nrows = 4, ncols = 2, figsize = (14, 16))\n",
        "sns.boxplot(x = 'bmi', data = df, ax=axes[0][0])\n",
        "sns.boxplot(x = 'Age', data = df, ax=axes[1][0])\n",
        "sns.boxplot(x = 'ahrq_ccs', data = df, ax=axes[2][0])\n",
        "sns.boxplot(x = 'ccsComplicationRate', data = df, ax=axes[3][0])\n",
        "sns.boxplot(x = 'ccsMort30Rate', data = df, ax=axes[3][1])\n",
        "sns.boxplot(x = 'complication_rsi', data = df, ax=axes[0][1])\n",
        "sns.boxplot(x = 'hour', data = df, ax = axes[1][1])\n",
        "sns.boxplot(x = 'mortality_rsi', data = df, ax = axes[2][1])"
      ],
      "metadata": {
        "colab": {
          "base_uri": "https://localhost:8080/",
          "height": 952
        },
        "id": "jK9s8d84-CwR",
        "outputId": "7cfd7dbe-2fed-4aea-9c42-6039896b26aa"
      },
      "execution_count": 138,
      "outputs": [
        {
          "output_type": "execute_result",
          "data": {
            "text/plain": [
              "<matplotlib.axes._subplots.AxesSubplot at 0x7f3b72da5610>"
            ]
          },
          "metadata": {},
          "execution_count": 138
        },
        {
          "output_type": "display_data",
          "data": {
            "image/png": "[encoded data removed]",
            "text/plain": [
              "<Figure size 1008x1152 with 8 Axes>"
            ]
          },
          "metadata": {
            "needs_background": "light"
          }
        }
      ]
    },
    {
      "cell_type": "markdown",
      "source": [
        "removing outliers"
      ],
      "metadata": {
        "id": "eqz7MDiMeXjZ"
      }
    },
    {
      "cell_type": "code",
      "source": [
        "def remove_outliers(data):\n",
        "  arr=[]\n",
        "  q1=np.percentile(data,25)\n",
        "  q3=np.percentile(data,75)\n",
        "  iqr=q3-q1\n",
        "  mi =q1-1.5*iqr\n",
        "  ma =q3+1.5*iqr\n",
        "  for i in list(data):\n",
        "        if i<mi:\n",
        "            i=mi\n",
        "            arr.append(i)\n",
        "        elif i>ma:\n",
        "            i=ma\n",
        "            arr.append(i)\n",
        "        else:\n",
        "            arr.append(i)\n",
        "    #print(max(arr))\n",
        "  return arr"
      ],
      "metadata": {
        "id": "kLw9HicH2LUD"
      },
      "execution_count": 139,
      "outputs": []
    },
    {
      "cell_type": "code",
      "source": [
        "data['bmi'] = remove_outliers(data['bmi'])\n",
        "data['complication_rsi'] = remove_outliers(data['complication_rsi'])\n",
        "data['Age'] = remove_outliers(data['Age'])\n",
        "data['hour'] = remove_outliers(data['hour'])\n",
        "data['ahrq_ccs'] = remove_outliers(data['ahrq_ccs'])\n",
        "data['mortality_rsi'] = remove_outliers(data['mortality_rsi'])\n",
        "data['ccsComplicationRate'] = remove_outliers(data['ccsComplicationRate'])\n",
        "data['ccsMort30Rate'] = remove_outliers(data['ccsMort30Rate'])"
      ],
      "metadata": {
        "id": "9ijTdPzQ9sYz"
      },
      "execution_count": 140,
      "outputs": []
    },
    {
      "cell_type": "code",
      "source": [
        "df=data"
      ],
      "metadata": {
        "id": "ILs5hwP_R9Gn"
      },
      "execution_count": 141,
      "outputs": []
    },
    {
      "cell_type": "code",
      "source": [
        "fig, axes = plt.subplots(nrows = 4, ncols = 2, figsize = (14, 16))\n",
        "sns.boxplot(x = 'bmi', data = df, ax=axes[0][0])\n",
        "sns.boxplot(x = 'Age', data = df, ax=axes[1][0])\n",
        "sns.boxplot(x = 'ahrq_ccs', data = df, ax=axes[2][0])\n",
        "sns.boxplot(x = 'ccsComplicationRate', data = df, ax=axes[3][0])\n",
        "sns.boxplot(x = 'ccsMort30Rate', data = df, ax=axes[3][1])\n",
        "sns.boxplot(x = 'complication_rsi', data = df, ax=axes[0][1])\n",
        "sns.boxplot(x = 'hour', data = df, ax = axes[1][1])\n",
        "sns.boxplot(x = 'mortality_rsi', data = df, ax = axes[2][1])"
      ],
      "metadata": {
        "colab": {
          "base_uri": "https://localhost:8080/",
          "height": 952
        },
        "id": "gzRonYje6-V6",
        "outputId": "cac5e442-410d-4812-a46a-1769c7bea6bd"
      },
      "execution_count": 142,
      "outputs": [
        {
          "output_type": "execute_result",
          "data": {
            "text/plain": [
              "<matplotlib.axes._subplots.AxesSubplot at 0x7f3b723e2dd0>"
            ]
          },
          "metadata": {},
          "execution_count": 142
        },
        {
          "output_type": "display_data",
          "data": {
            "image/png": "[encoded data removed]",
            "text/plain": [
              "<Figure size 1008x1152 with 8 Axes>"
            ]
          },
          "metadata": {
            "needs_background": "light"
          }
        }
      ]
    },
    {
      "cell_type": "code",
      "source": [
        "X=df.drop('complication',axis=1)\n",
        "Y=df['complication']"
      ],
      "metadata": {
        "id": "TS4Le30CSAhc"
      },
      "execution_count": 143,
      "outputs": []
    },
    {
      "cell_type": "code",
      "source": [
        "sns.countplot(x='complication', data = df)"
      ],
      "metadata": {
        "colab": {
          "base_uri": "https://localhost:8080/",
          "height": 300
        },
        "id": "4J9w_SQLSlG5",
        "outputId": "a8290c0e-e455-4a53-ee64-cba4bb0b4603"
      },
      "execution_count": 144,
      "outputs": [
        {
          "output_type": "execute_result",
          "data": {
            "text/plain": [
              "<matplotlib.axes._subplots.AxesSubplot at 0x7f3b72324b50>"
            ]
          },
          "metadata": {},
          "execution_count": 144
        },
        {
          "output_type": "display_data",
          "data": {
            "image/png": "[encoded data removed]",
            "text/plain": [
              "<Figure size 432x288 with 1 Axes>"
            ]
          },
          "metadata": {
            "needs_background": "light"
          }
        }
      ]
    },
    {
      "cell_type": "code",
      "source": [
        "from imblearn.over_sampling import SMOTE\n",
        "\n",
        "sm = SMOTE()\n",
        "x_res, y_res = sm.fit_resample(X, Y)\n",
        "\n",
        "print(\"Before OverSampling, counts of label '1': {}\".format(sum(Y==1)))\n",
        "print(\"Before OverSampling, counts of label '0': {} \\n\".format(sum(Y==0)))\n",
        "\n",
        "print('After OverSampling, the shape of train_X: {}'.format(X_res.shape))\n",
        "print('After OverSampling, the shape of train_y: {} \\n'.format(Y_res.shape))\n",
        "\n",
        "print(\"After OverSampling, counts of label '1': {}\".format(sum(Y_res==1)))\n",
        "print(\"After OverSampling, counts of label '0': {}\".format(sum(Y_res==0)))"
      ],
      "metadata": {
        "colab": {
          "base_uri": "https://localhost:8080/"
        },
        "id": "izyej97TVG0e",
        "outputId": "bdf35a4b-c734-4945-e3f0-7e9293b9c00c"
      },
      "execution_count": 145,
      "outputs": [
        {
          "output_type": "stream",
          "name": "stdout",
          "text": [
            "Before OverSampling, counts of label '1': 3690\n",
            "Before OverSampling, counts of label '0': 10945 \n",
            "\n",
            "After OverSampling, the shape of train_X: (21890, 24)\n",
            "After OverSampling, the shape of train_y: (21890,) \n",
            "\n",
            "After OverSampling, counts of label '1': 10945\n",
            "After OverSampling, counts of label '0': 10945\n"
          ]
        }
      ]
    },
    {
      "cell_type": "code",
      "source": [
        "sns.countplot(x = y_res, data = df)"
      ],
      "metadata": {
        "colab": {
          "base_uri": "https://localhost:8080/",
          "height": 300
        },
        "id": "bngWYqzJVbfm",
        "outputId": "61e3676d-efd5-4367-b153-029af766537d"
      },
      "execution_count": 146,
      "outputs": [
        {
          "output_type": "execute_result",
          "data": {
            "text/plain": [
              "<matplotlib.axes._subplots.AxesSubplot at 0x7f3b719c5b90>"
            ]
          },
          "metadata": {},
          "execution_count": 146
        },
        {
          "output_type": "display_data",
          "data": {
            "image/png": "[encoded data removed]",
            "text/plain": [
              "<Figure size 432x288 with 1 Axes>"
            ]
          },
          "metadata": {
            "needs_background": "light"
          }
        }
      ]
    },
    {
      "cell_type": "markdown",
      "source": [
        "modeling the logestic regression classifier"
      ],
      "metadata": {
        "id": "EIxh4-WVVm9v"
      }
    },
    {
      "cell_type": "code",
      "source": [
        "from sklearn.model_selection import train_test_split\n",
        "from sklearn.linear_model import LogisticRegression"
      ],
      "metadata": {
        "id": "1kURgCYeVfAA"
      },
      "execution_count": 147,
      "outputs": []
    },
    {
      "cell_type": "code",
      "source": [
        "X_train,X_test,Y_train,Y_test=train_test_split(x_res,y_res,test_size=.2, random_state = 42)\n"
      ],
      "metadata": {
        "id": "ZpbEkBuaV2FQ"
      },
      "execution_count": 148,
      "outputs": []
    },
    {
      "cell_type": "code",
      "source": [
        "model=LogisticRegression()\n"
      ],
      "metadata": {
        "id": "rcU8QrhvWMNo"
      },
      "execution_count": 149,
      "outputs": []
    },
    {
      "cell_type": "code",
      "source": [
        "model.fit(X_train,Y_train)\n",
        "y_pred=model.predict(X_test)\n"
      ],
      "metadata": {
        "colab": {
          "base_uri": "https://localhost:8080/"
        },
        "id": "vu_cSlAFWpPc",
        "outputId": "2c0dca7f-7f6c-452d-9370-c0843b6f4d79"
      },
      "execution_count": 150,
      "outputs": [
        {
          "output_type": "stream",
          "name": "stderr",
          "text": [
            "/usr/local/lib/python3.7/dist-packages/sklearn/linear_model/_logistic.py:818: ConvergenceWarning: lbfgs failed to converge (status=1):\n",
            "STOP: TOTAL NO. of ITERATIONS REACHED LIMIT.\n",
            "\n",
            "Increase the number of iterations (max_iter) or scale the data as shown in:\n",
            "    https://scikit-learn.org/stable/modules/preprocessing.html\n",
            "Please also refer to the documentation for alternative solver options:\n",
            "    https://scikit-learn.org/stable/modules/linear_model.html#logistic-regression\n",
            "  extra_warning_msg=_LOGISTIC_SOLVER_CONVERGENCE_MSG,\n"
          ]
        }
      ]
    },
    {
      "cell_type": "markdown",
      "source": [
        "validating the model with confusion matrix"
      ],
      "metadata": {
        "id": "XeK9XpsMX-oc"
      }
    },
    {
      "cell_type": "code",
      "source": [
        "from sklearn.metrics import confusion_matrix,roc_curve,auc,classification_report"
      ],
      "metadata": {
        "id": "2ubuBW6BYC_N"
      },
      "execution_count": 151,
      "outputs": []
    },
    {
      "cell_type": "code",
      "source": [
        "matrix=confusion_matrix(y_pred,Y_test)\n",
        "matrix"
      ],
      "metadata": {
        "colab": {
          "base_uri": "https://localhost:8080/"
        },
        "id": "9ZYAKvpMYK5f",
        "outputId": "119077da-ff3a-444b-bd0e-69cb84b05bcf"
      },
      "execution_count": 152,
      "outputs": [
        {
          "output_type": "execute_result",
          "data": {
            "text/plain": [
              "array([[1598,  470],\n",
              "       [ 601, 1709]])"
            ]
          },
          "metadata": {},
          "execution_count": 152
        }
      ]
    },
    {
      "cell_type": "markdown",
      "source": [
        "plotting the roc curve"
      ],
      "metadata": {
        "id": "C-ifefrca8l4"
      }
    },
    {
      "cell_type": "code",
      "source": [
        "false_positive_rate, true_positive_rate, thresholds =roc_curve(y_pred,Y_test)\n",
        "roc_auc = auc(false_positive_rate, true_positive_rate)\n",
        "roc_auc"
      ],
      "metadata": {
        "colab": {
          "base_uri": "https://localhost:8080/"
        },
        "id": "ODYuYFsKYZDM",
        "outputId": "7f5ab13a-29a8-4bdd-c460-f55d9c5dd18e"
      },
      "execution_count": 153,
      "outputs": [
        {
          "output_type": "execute_result",
          "data": {
            "text/plain": [
              "0.7562770562770563"
            ]
          },
          "metadata": {},
          "execution_count": 153
        }
      ]
    },
    {
      "cell_type": "code",
      "source": [
        "def plot_roc(roc_auc):\n",
        "    plt.figure(figsize=(7,7))\n",
        "    plt.title('Receiver Operating Characteristic')\n",
        "    plt.plot(false_positive_rate, true_positive_rate, color='red', label='AUC = %0.2f' % roc_auc)\n",
        "    plt.legend(loc='lower right')\n",
        "    plt.plot([0, 1], [0, 1], linestyle='--')\n",
        "    plt.axis('tight')\n",
        "    plt.ylabel('True positive rate')\n",
        "    plt.xlabel('False positive rate')"
      ],
      "metadata": {
        "id": "RBsQUWi2aHFr"
      },
      "execution_count": 154,
      "outputs": []
    },
    {
      "cell_type": "code",
      "source": [
        "plot_roc(roc_auc)"
      ],
      "metadata": {
        "colab": {
          "base_uri": "https://localhost:8080/",
          "height": 461
        },
        "id": "6Qp3FtikaPLu",
        "outputId": "da548d8d-03f9-4ee7-9280-d106b2ee192d"
      },
      "execution_count": 155,
      "outputs": [
        {
          "output_type": "display_data",
          "data": {
            "image/png": "[encoded data removed]",
            "text/plain": [
              "<Figure size 504x504 with 1 Axes>"
            ]
          },
          "metadata": {
            "needs_background": "light"
          }
        }
      ]
    },
    {
      "cell_type": "code",
      "source": [
        "classification_report(y_pred,Y_test)"
      ],
      "metadata": {
        "colab": {
          "base_uri": "https://localhost:8080/",
          "height": 70
        },
        "id": "zCT7r5eKcuQI",
        "outputId": "15bedcb1-f45c-4134-fa9e-b266e546975e"
      },
      "execution_count": 156,
      "outputs": [
        {
          "output_type": "execute_result",
          "data": {
            "application/vnd.google.colaboratory.intrinsic+json": {
              "type": "string"
            },
            "text/plain": [
              "'              precision    recall  f1-score   support\\n\\n           0       0.73      0.77      0.75      2068\\n           1       0.78      0.74      0.76      2310\\n\\n    accuracy                           0.76      4378\\n   macro avg       0.76      0.76      0.76      4378\\nweighted avg       0.76      0.76      0.76      4378\\n'"
            ]
          },
          "metadata": {},
          "execution_count": 156
        }
      ]
    }
  ]
}